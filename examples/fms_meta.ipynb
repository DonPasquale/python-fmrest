{
 "cells": [
  {
   "cell_type": "code",
   "execution_count": 6,
   "metadata": {},
   "outputs": [
    {
     "name": "stdout",
     "output_type": "stream",
     "text": [
      "3.7.9 (v3.7.9:13c94747c7, Aug 15 2020, 01:31:08) \n",
      "[Clang 6.0 (clang-600.0.57)]\n",
      "1.4.0\n",
      "\n",
      "<Server logged_in=False database=test_database layout=test_layout>\n",
      "User:      fmsrest\n",
      "Password:  fmsrest\n",
      "Token:     None\n",
      "Headers:   {'Content-Type': 'application/json'}\n",
      "Path:      /fmi/data/v1/productInfo\n",
      "Result:    {'name': 'FileMaker Data API Engine', 'buildDate': '07/22/2021', 'version': '19.3.2.203', 'dateFormat': 'MM/dd/yyyy', 'timeFormat': 'HH:mm:ss', 'timeStampFormat': 'MM/dd/yyyy HH:mm:ss'}\n",
      "Path:      /fmi/data/v1/databases\n",
      "Result:    [{'name': 'test_database'}]\n",
      "\n",
      "<Server logged_in=True database=test_database layout=test_layout>\n",
      "User:      fmsrest\n",
      "Password:  fmsrest\n",
      "Token:     1faf2daaadd0fddda2bc4251f571c66e2549d4afb2a04dbc3866\n",
      "Headers:   {'Content-Type': 'application/json'}\n",
      "Path:      /fmi/data/v1/productInfo\n",
      "Result:    {'name': 'FileMaker Data API Engine', 'buildDate': '07/22/2021', 'version': '19.3.2.203', 'dateFormat': 'MM/dd/yyyy', 'timeFormat': 'HH:mm:ss', 'timeStampFormat': 'MM/dd/yyyy HH:mm:ss'}\n",
      "Path:      /fmi/data/v1/databases\n",
      "/fmi/data/v1/databases/{database}/layouts\n",
      "[{'name': 'test_layout', 'table': ''}]\n",
      "/fmi/data/v1/databases/{database}/scripts\n",
      "[]\n",
      "/fmi/data/v1/databases/{database}/layouts\n"
     ]
    },
    {
     "ename": "NameError",
     "evalue": "name 'layout' is not defined",
     "output_type": "error",
     "traceback": [
      "\u001b[0;31m---------------------------------------------------------------------------\u001b[0m",
      "\u001b[0;31mNameError\u001b[0m                                 Traceback (most recent call last)",
      "\u001b[0;32m/var/folders/jw/g7hfq88d7858lbhwm_l5x4vm0000gp/T/ipykernel_39793/3200453808.py\u001b[0m in \u001b[0;36m<module>\u001b[0;34m\u001b[0m\n\u001b[1;32m     54\u001b[0m \u001b[0;34m\u001b[0m\u001b[0m\n\u001b[1;32m     55\u001b[0m \u001b[0mprint\u001b[0m\u001b[0;34m(\u001b[0m\u001b[0mAPI_PATH\u001b[0m\u001b[0;34m[\u001b[0m\u001b[0;34m'meta'\u001b[0m\u001b[0;34m]\u001b[0m\u001b[0;34m[\u001b[0m\u001b[0;34m'layouts'\u001b[0m\u001b[0;34m]\u001b[0m\u001b[0;34m)\u001b[0m\u001b[0;34m\u001b[0m\u001b[0;34m\u001b[0m\u001b[0m\n\u001b[0;32m---> 56\u001b[0;31m \u001b[0mprint\u001b[0m\u001b[0;34m(\u001b[0m\u001b[0mfms\u001b[0m\u001b[0;34m.\u001b[0m\u001b[0mget_layout\u001b[0m\u001b[0;34m(\u001b[0m\u001b[0;34m)\u001b[0m\u001b[0;34m)\u001b[0m\u001b[0;34m\u001b[0m\u001b[0;34m\u001b[0m\u001b[0m\n\u001b[0m\u001b[1;32m     57\u001b[0m \u001b[0;34m\u001b[0m\u001b[0m\n\u001b[1;32m     58\u001b[0m \u001b[0mprint\u001b[0m\u001b[0;34m(\u001b[0m\u001b[0;34m)\u001b[0m\u001b[0;34m\u001b[0m\u001b[0;34m\u001b[0m\u001b[0m\n",
      "\u001b[0;32m/Library/Frameworks/Python.framework/Versions/3.7/lib/python3.7/site-packages/fmrest/server.py\u001b[0m in \u001b[0;36mwrapper\u001b[0;34m(self, *args, **kwargs)\u001b[0m\n\u001b[1;32m    126\u001b[0m         \u001b[0;32mdef\u001b[0m \u001b[0mwrapper\u001b[0m\u001b[0;34m(\u001b[0m\u001b[0mself\u001b[0m\u001b[0;34m,\u001b[0m \u001b[0;34m*\u001b[0m\u001b[0margs\u001b[0m\u001b[0;34m,\u001b[0m \u001b[0;34m**\u001b[0m\u001b[0mkwargs\u001b[0m\u001b[0;34m)\u001b[0m\u001b[0;34m:\u001b[0m\u001b[0;34m\u001b[0m\u001b[0;34m\u001b[0m\u001b[0m\n\u001b[1;32m    127\u001b[0m             \u001b[0;32mif\u001b[0m \u001b[0;32mnot\u001b[0m \u001b[0mself\u001b[0m\u001b[0;34m.\u001b[0m\u001b[0mauto_relogin\u001b[0m\u001b[0;34m:\u001b[0m\u001b[0;34m\u001b[0m\u001b[0;34m\u001b[0m\u001b[0m\n\u001b[0;32m--> 128\u001b[0;31m                 \u001b[0;32mreturn\u001b[0m \u001b[0mf\u001b[0m\u001b[0;34m(\u001b[0m\u001b[0mself\u001b[0m\u001b[0;34m,\u001b[0m \u001b[0;34m*\u001b[0m\u001b[0margs\u001b[0m\u001b[0;34m,\u001b[0m \u001b[0;34m**\u001b[0m\u001b[0mkwargs\u001b[0m\u001b[0;34m)\u001b[0m\u001b[0;34m\u001b[0m\u001b[0;34m\u001b[0m\u001b[0m\n\u001b[0m\u001b[1;32m    129\u001b[0m \u001b[0;34m\u001b[0m\u001b[0m\n\u001b[1;32m    130\u001b[0m             \u001b[0;32mtry\u001b[0m\u001b[0;34m:\u001b[0m\u001b[0;34m\u001b[0m\u001b[0;34m\u001b[0m\u001b[0m\n",
      "\u001b[0;32m/Library/Frameworks/Python.framework/Versions/3.7/lib/python3.7/site-packages/fmrest/server.py\u001b[0m in \u001b[0;36mget_layout\u001b[0;34m(self)\u001b[0m\n\u001b[1;32m    728\u001b[0m         \u001b[0mnone\u001b[0m\u001b[0;34m\u001b[0m\u001b[0;34m\u001b[0m\u001b[0m\n\u001b[1;32m    729\u001b[0m         \"\"\"\n\u001b[0;32m--> 730\u001b[0;31m         path = API_PATH['meta']['layouts'] + f'/{layout}'.format(\n\u001b[0m\u001b[1;32m    731\u001b[0m             \u001b[0mdatabase\u001b[0m\u001b[0;34m=\u001b[0m\u001b[0mself\u001b[0m\u001b[0;34m.\u001b[0m\u001b[0mdatabase\u001b[0m\u001b[0;34m,\u001b[0m\u001b[0;34m\u001b[0m\u001b[0;34m\u001b[0m\u001b[0m\n\u001b[1;32m    732\u001b[0m             \u001b[0mlayout\u001b[0m\u001b[0;34m=\u001b[0m\u001b[0mself\u001b[0m\u001b[0;34m.\u001b[0m\u001b[0mlayout\u001b[0m\u001b[0;34m\u001b[0m\u001b[0;34m\u001b[0m\u001b[0m\n",
      "\u001b[0;31mNameError\u001b[0m: name 'layout' is not defined"
     ]
    }
   ],
   "source": [
    "import sys\n",
    "print(sys.version)\n",
    "import fmrest\n",
    "print(fmrest.__version__)\n",
    "from fmrest.exceptions import FileMakerError\n",
    "from fmrest.const import API_PATH\n",
    "import requests\n",
    "requests.packages.urllib3.disable_warnings()\n",
    "\n",
    "fms = fmrest.Server('https://filemaker.example.org', # https://filemaker.example.org\n",
    "\t\t\t\t\tuser='fmsrest',\n",
    "\t\t\t\t\tpassword='fmsrest',\n",
    "\t\t\t\t\tdatabase='test_database', # Using a test database\n",
    "                    # The test database contains one table named \n",
    "\t\t\t\t\t# 'test_table' and one layout named 'test_layout'\n",
    "\t\t\t\t\tlayout='test_layout', \n",
    "\t\t\t\t\t# if you are testing without cert/domain \n",
    "\t\t\t\t\t# you may need the parameter verify_ssl=False here.\n",
    "\t\t\t\t\tverify_ssl=False\n",
    ")\n",
    "\n",
    "print()\n",
    "print(fms)\n",
    "print('User:     ', fms.user)\n",
    "print('Password: ', fms.password)\n",
    "print('Token:    ', fms._token)\n",
    "print('Headers:  ', fms._headers)\n",
    "print('Path:     ', API_PATH['meta']['product'])\n",
    "print('Result:   ', fms.get_product_info())\n",
    "\n",
    "print('Path:     ', API_PATH['meta']['databases'])\n",
    "print('Result:   ', fms.get_databases())\n",
    "\n",
    "print()\n",
    "\n",
    "fms.login()\n",
    "print(fms)\n",
    "print('User:     ', fms.user)\n",
    "print('Password: ', fms.password)\n",
    "print('Token:    ', fms._token)\n",
    "print('Headers:  ', fms._headers)\n",
    "print('Path:     ', API_PATH['meta']['product'])\n",
    "print('Result:   ', fms.get_product_info())\n",
    "\n",
    "print('Path:     ', API_PATH['meta']['databases'])\n",
    "#print('Result:   ', fms.get_databases())\n",
    "\n",
    "\n",
    "print(API_PATH['meta']['layouts'])\n",
    "print(fms.get_layouts())\n",
    "\n",
    "print(API_PATH['meta']['scripts'])\n",
    "print(fms.get_scripts())\n",
    "\n",
    "print(API_PATH['meta']['layouts'])\n",
    "print(fms.get_layout())\n",
    "\n",
    "print()\n",
    "fms.logout()\n",
    "print(fms)\n"
   ]
  }
 ],
 "metadata": {
  "interpreter": {
   "hash": "aee8b7b246df8f9039afb4144a1f6fd8d2ca17a180786b69acc140d282b71a49"
  },
  "kernelspec": {
   "display_name": "Python 3.7.9 64-bit",
   "language": "python",
   "name": "python3"
  },
  "language_info": {
   "codemirror_mode": {
    "name": "ipython",
    "version": 3
   },
   "file_extension": ".py",
   "mimetype": "text/x-python",
   "name": "python",
   "nbconvert_exporter": "python",
   "pygments_lexer": "ipython3",
   "version": "3.7.9"
  },
  "orig_nbformat": 4
 },
 "nbformat": 4,
 "nbformat_minor": 2
}
